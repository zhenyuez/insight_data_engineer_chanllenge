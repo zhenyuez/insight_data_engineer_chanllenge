{
 "cells": [
  {
   "cell_type": "code",
   "execution_count": 1,
   "metadata": {
    "collapsed": false
   },
   "outputs": [],
   "source": [
    "import pandas as pd\n",
    "import numpy as np\n",
    "import csv\n",
    "import datetime\n",
    "from datetime import timedelta\n",
    "import matplotlib.pyplot as plt\n",
    "%matplotlib inline"
   ]
  },
  {
   "cell_type": "code",
   "execution_count": 16,
   "metadata": {
    "collapsed": false
   },
   "outputs": [],
   "source": [
    "f=open(\"../venmo_input/venmo-trans.txt.old\")\n",
    "pay=list(csv.reader(f))"
   ]
  },
  {
   "cell_type": "code",
   "execution_count": 17,
   "metadata": {
    "collapsed": false
   },
   "outputs": [],
   "source": [
    "date=[]\n",
    "sender=[]\n",
    "receiver=[]    "
   ]
  },
  {
   "cell_type": "code",
   "execution_count": 18,
   "metadata": {
    "collapsed": false
   },
   "outputs": [],
   "source": [
    "for row in pay:\n",
    "    time=row[0].replace(\"{\\\"created_time\\\": \\\"\",\"\")\n",
    "    time=time.replace(\"\\\"\",\"\")\n",
    "    \n",
    "    rece=row[1].replace(\" \\\"target\\\": \\\"\",\"\")\n",
    "    rece=rece.replace(\"\\\"\",\"\")\n",
    "    \n",
    "    send=row[2].replace(\" \\\"actor\\\": \\\"\",\"\")\n",
    "    send=send.replace(\"\\\"}\",\"\")\n",
    "    time=datetime.datetime.strptime(time,\"%Y-%m-%dT%H:%M:%SZ\")\n",
    "    \n",
    "    date.append(time)\n",
    "    sender.append(send)\n",
    "    receiver.append(rece)"
   ]
  },
  {
   "cell_type": "code",
   "execution_count": 19,
   "metadata": {
    "collapsed": false
   },
   "outputs": [],
   "source": [
    "d={'time':date,'sender':sender,'receiver':receiver}\n",
    "df=pd.DataFrame(d)"
   ]
  },
  {
   "cell_type": "code",
   "execution_count": 20,
   "metadata": {
    "collapsed": false
   },
   "outputs": [
    {
     "data": {
      "text/html": [
       "<div>\n",
       "<table border=\"1\" class=\"dataframe\">\n",
       "  <thead>\n",
       "    <tr style=\"text-align: right;\">\n",
       "      <th></th>\n",
       "      <th>receiver</th>\n",
       "      <th>sender</th>\n",
       "      <th>time</th>\n",
       "    </tr>\n",
       "  </thead>\n",
       "  <tbody>\n",
       "    <tr>\n",
       "      <th>0</th>\n",
       "      <td>Jamie-Korn</td>\n",
       "      <td>Jordan-Gruber</td>\n",
       "      <td>2016-04-07 03:33:19</td>\n",
       "    </tr>\n",
       "    <tr>\n",
       "      <th>1</th>\n",
       "      <td>Jamie-Korn</td>\n",
       "      <td>Maryann-Berry</td>\n",
       "      <td>2016-04-07 03:33:19</td>\n",
       "    </tr>\n",
       "    <tr>\n",
       "      <th>2</th>\n",
       "      <td>Maryann-Berry</td>\n",
       "      <td>Ying-Mo</td>\n",
       "      <td>2016-04-07 03:33:19</td>\n",
       "    </tr>\n",
       "    <tr>\n",
       "      <th>3</th>\n",
       "      <td>Ying-Mo</td>\n",
       "      <td>Jamie-Korn</td>\n",
       "      <td>2016-04-07 03:34:18</td>\n",
       "    </tr>\n",
       "    <tr>\n",
       "      <th>4</th>\n",
       "      <td>Maddie-Franklin</td>\n",
       "      <td>Maryann-Berry</td>\n",
       "      <td>2016-04-07 03:34:58</td>\n",
       "    </tr>\n",
       "    <tr>\n",
       "      <th>5</th>\n",
       "      <td>Ying-Mo</td>\n",
       "      <td>Maryann-Berry</td>\n",
       "      <td>2016-04-07 03:34:00</td>\n",
       "    </tr>\n",
       "    <tr>\n",
       "      <th>6</th>\n",
       "      <td>Rebecca-Waychunas</td>\n",
       "      <td>Natalie-Piserchio</td>\n",
       "      <td>2016-04-07 03:31:18</td>\n",
       "    </tr>\n",
       "    <tr>\n",
       "      <th>7</th>\n",
       "      <td>Connor-Liebman</td>\n",
       "      <td>Nick-Shirreffs</td>\n",
       "      <td>2016-04-07 03:35:02</td>\n",
       "    </tr>\n",
       "  </tbody>\n",
       "</table>\n",
       "</div>"
      ],
      "text/plain": [
       "            receiver             sender                time\n",
       "0         Jamie-Korn      Jordan-Gruber 2016-04-07 03:33:19\n",
       "1         Jamie-Korn      Maryann-Berry 2016-04-07 03:33:19\n",
       "2      Maryann-Berry            Ying-Mo 2016-04-07 03:33:19\n",
       "3            Ying-Mo         Jamie-Korn 2016-04-07 03:34:18\n",
       "4    Maddie-Franklin      Maryann-Berry 2016-04-07 03:34:58\n",
       "5            Ying-Mo      Maryann-Berry 2016-04-07 03:34:00\n",
       "6  Rebecca-Waychunas  Natalie-Piserchio 2016-04-07 03:31:18\n",
       "7     Connor-Liebman     Nick-Shirreffs 2016-04-07 03:35:02"
      ]
     },
     "execution_count": 20,
     "metadata": {},
     "output_type": "execute_result"
    }
   ],
   "source": [
    "df"
   ]
  },
  {
   "cell_type": "code",
   "execution_count": 21,
   "metadata": {
    "collapsed": false
   },
   "outputs": [
    {
     "data": {
      "text/plain": [
       "(8, 3)"
      ]
     },
     "execution_count": 21,
     "metadata": {},
     "output_type": "execute_result"
    }
   ],
   "source": [
    "df.shape"
   ]
  },
  {
   "cell_type": "code",
   "execution_count": 22,
   "metadata": {
    "collapsed": false
   },
   "outputs": [
    {
     "data": {
      "text/plain": [
       "receiver            object\n",
       "sender              object\n",
       "time        datetime64[ns]\n",
       "dtype: object"
      ]
     },
     "execution_count": 22,
     "metadata": {},
     "output_type": "execute_result"
    }
   ],
   "source": [
    "df.dtypes"
   ]
  },
  {
   "cell_type": "code",
   "execution_count": 9,
   "metadata": {
    "collapsed": false
   },
   "outputs": [
    {
     "data": {
      "text/plain": [
       "pandas.core.series.Series"
      ]
     },
     "execution_count": 9,
     "metadata": {},
     "output_type": "execute_result"
    }
   ],
   "source": [
    "type(df.receiver)"
   ]
  },
  {
   "cell_type": "code",
   "execution_count": 10,
   "metadata": {
    "collapsed": false
   },
   "outputs": [],
   "source": [
    "#df.sort_values('time',ascending=True)"
   ]
  },
  {
   "cell_type": "code",
   "execution_count": 23,
   "metadata": {
    "collapsed": true
   },
   "outputs": [],
   "source": [
    "import networkx as nx\n",
    "G=nx.Graph()"
   ]
  },
  {
   "cell_type": "code",
   "execution_count": 25,
   "metadata": {
    "collapsed": false
   },
   "outputs": [
    {
     "name": "stdout",
     "output_type": "stream",
     "text": [
      "1.00\n",
      "case 3\n",
      "1.00\n",
      "case 3\n",
      "1.50\n",
      "case 4\n",
      "2.00\n",
      "case 4\n",
      "1.00\n",
      "case 5\n",
      "1.50\n",
      "case 1\n",
      "1.50\n",
      "case 4\n",
      "1.00\n"
     ]
    }
   ],
   "source": [
    "G.clear()\n",
    "time_lis=[]\n",
    "edge_lis=[]\n",
    "node_lis=[]\n",
    "\n",
    "for i in range(df.shape[0]):\n",
    "    t = df.time.iloc[i]\n",
    "    ctrl=True\n",
    "#    print(i)\n",
    "    \n",
    "    if i==0:\n",
    "        t_min = t \n",
    "        t_max = t\n",
    "        time_lis.append((i,t))\n",
    "    \n",
    "    t1=int((t-t_max).total_seconds())\n",
    "    t2=int((t-t_min).total_seconds())\n",
    "\n",
    "    if i>0:    \n",
    "        if t1<-60:\n",
    "            print('case 1')\n",
    "            ctrl=False\n",
    "            pass\n",
    "    \n",
    "        if t1>60:\n",
    "            print('case 2')\n",
    "            time_lis=[]\n",
    "            time_lis.append((i,t))\n",
    "    \n",
    "        if (t1 <=0) & (t2>=0):\n",
    "            print('case 3')\n",
    "            time_lis.append((i,t))\n",
    "        \n",
    "        if (t1 >0) & (t1 <=60):\n",
    "            print('case 4')\n",
    "            time_lis.append((i,t))            \n",
    "            t_max=t\n",
    "            copy_time_lis=list(time_lis)\n",
    "            for j in copy_time_lis:\n",
    "                if int((t_max-j[1]).total_seconds())>=60:\n",
    "                    time_lis.remove(j)\n",
    "                    edge_lis.remove((df.receiver.iloc[j[0]],df.sender.iloc[j[0]]))\n",
    "                    node_lis.remove(df.receiver.iloc[j[0]])\n",
    "                    node_lis.remove(df.sender.iloc[j[0]])\n",
    "                            \n",
    "        if (t2 <0) & (t1 > -60):\n",
    "            print('case 5')\n",
    "            time_lis.append((i,t))\n",
    "                \n",
    "    final_t_lis=[]\n",
    "    for k in time_lis:\n",
    "        final_t_lis.append(k[1])        \n",
    "    final_t_lis.sort()\n",
    "#    print(final_t_lis) \n",
    "\n",
    "    t_min=final_t_lis[0]\n",
    "    t_max=final_t_lis[len(time_lis)-1]\n",
    "    t_inter=int((t_max-t_min).total_seconds())\n",
    "    if t_inter>60:\n",
    "        print('error',int((t_max-t_min).total_seconds()))\n",
    "    \n",
    "    if ctrl==True:\n",
    "        tup=(df.receiver.iloc[i],df.sender.iloc[i])\n",
    "        edge_lis.append(tup)    \n",
    "        node_lis.append(df.receiver.iloc[i])\n",
    "        node_lis.append(df.sender.iloc[i])\n",
    "    \n",
    "    G.clear()\n",
    "    G.add_nodes_from(node_lis)\n",
    "    G.add_edges_from(edge_lis)\n",
    "    degree=list(G.degree(node_lis).values())\n",
    "#    print(sorted(degree))\n",
    "    a=np.median(degree)\n",
    "    print(\"%.2f\" % a)\n",
    "    "
   ]
  },
  {
   "cell_type": "code",
   "execution_count": null,
   "metadata": {
    "collapsed": true
   },
   "outputs": [],
   "source": []
  }
 ],
 "metadata": {
  "kernelspec": {
   "display_name": "Python 3",
   "language": "python",
   "name": "python3"
  },
  "language_info": {
   "codemirror_mode": {
    "name": "ipython",
    "version": 3
   },
   "file_extension": ".py",
   "mimetype": "text/x-python",
   "name": "python",
   "nbconvert_exporter": "python",
   "pygments_lexer": "ipython3",
   "version": "3.5.1"
  }
 },
 "nbformat": 4,
 "nbformat_minor": 0
}
